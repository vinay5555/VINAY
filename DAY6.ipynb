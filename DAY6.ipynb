{
  "nbformat": 4,
  "nbformat_minor": 0,
  "metadata": {
    "colab": {
      "name": "DAY6.ipynb",
      "provenance": [],
      "authorship_tag": "ABX9TyNaGtfz6EAjUmIzdlvDI8q2",
      "include_colab_link": true
    },
    "kernelspec": {
      "name": "python3",
      "display_name": "Python 3"
    }
  },
  "cells": [
    {
      "cell_type": "markdown",
      "metadata": {
        "id": "view-in-github",
        "colab_type": "text"
      },
      "source": [
        "<a href=\"https://colab.research.google.com/github/vinay5555/VINAY/blob/master/DAY6.ipynb\" target=\"_parent\"><img src=\"https://colab.research.google.com/assets/colab-badge.svg\" alt=\"Open In Colab\"/></a>"
      ]
    },
    {
      "cell_type": "code",
      "metadata": {
        "id": "r1Rc0__VoNHU",
        "colab_type": "code",
        "colab": {}
      },
      "source": [
        " # QUESTION1:CREATE A BANK ACCOUNT CLASS THAT HAS 2 ATTRIBUTES NAME AND BALANCE , AND 2 METHODS DEPOSIT AND WITHDRAW \n",
        "# INSTANTIATE UR CLASS ,MAKE SEVERAL DEPOSITS AND WITHDRAWALS AND TEST TO AMKE SYRE THAT ACCOUNT CANT BE OVERDRAWN..."
      ],
      "execution_count": 5,
      "outputs": []
    },
    {
      "cell_type": "code",
      "metadata": {
        "id": "OFANmZ_3osyK",
        "colab_type": "code",
        "colab": {}
      },
      "source": [
        "class account():\n",
        "    def __init__(self,name,balance):\n",
        "        self.name=name\n",
        "        self.balance=balance\n",
        "    def deposit(self,amount):\n",
        "        self.amount=amount\n",
        "        self.balance=self.balance+self.amount\n",
        "        print(\"Available balance=\",self.balance)\n",
        "    def withdraw(self,amount1):\n",
        "        self.amount1=amount1\n",
        "        if self.amount1<=self.balance:\n",
        "            self.balance=self.balance-self.amount1\n",
        "            print(\"available balance =\",self.balance)\n",
        "        else:\n",
        "            print(\"withdrawal amount exceeds the available amount\")"
      ],
      "execution_count": 22,
      "outputs": []
    },
    {
      "cell_type": "code",
      "metadata": {
        "id": "tf98iwwqqRzX",
        "colab_type": "code",
        "colab": {}
      },
      "source": [
        " customer1=account(\"vj\",0)"
      ],
      "execution_count": 23,
      "outputs": []
    },
    {
      "cell_type": "code",
      "metadata": {
        "id": "r9OoZ6peqejf",
        "colab_type": "code",
        "colab": {
          "base_uri": "https://localhost:8080/",
          "height": 34
        },
        "outputId": "b8e57e15-96bf-4cbc-e655-08e2e7da676d"
      },
      "source": [
        " customer1.deposit(5000)"
      ],
      "execution_count": 24,
      "outputs": [
        {
          "output_type": "stream",
          "text": [
            "Available balance= 5000\n"
          ],
          "name": "stdout"
        }
      ]
    },
    {
      "cell_type": "code",
      "metadata": {
        "id": "z7Ocdr_SqiLY",
        "colab_type": "code",
        "colab": {
          "base_uri": "https://localhost:8080/",
          "height": 34
        },
        "outputId": "8c3a3ee7-0eeb-4048-f11e-629c3266324f"
      },
      "source": [
        " customer1.deposit(5000)"
      ],
      "execution_count": 25,
      "outputs": [
        {
          "output_type": "stream",
          "text": [
            "Available balance= 10000\n"
          ],
          "name": "stdout"
        }
      ]
    },
    {
      "cell_type": "code",
      "metadata": {
        "id": "IuYmEYOGqmY7",
        "colab_type": "code",
        "colab": {
          "base_uri": "https://localhost:8080/",
          "height": 34
        },
        "outputId": "ac79701b-6312-46f6-a562-8fa15d217e84"
      },
      "source": [
        " customer1.withdraw(2000)"
      ],
      "execution_count": 26,
      "outputs": [
        {
          "output_type": "stream",
          "text": [
            "available balance = 8000\n"
          ],
          "name": "stdout"
        }
      ]
    },
    {
      "cell_type": "code",
      "metadata": {
        "id": "Ztghpq82quLc",
        "colab_type": "code",
        "colab": {
          "base_uri": "https://localhost:8080/",
          "height": 54
        },
        "outputId": "998e1e5c-41d7-4703-8dca-2c124246002b"
      },
      "source": [
        " customer1.withdraw(9000)"
      ],
      "execution_count": 27,
      "outputs": [
        {
          "output_type": "stream",
          "text": [
            "withdrawal amount exceeds the available amount\n"
          ],
          "name": "stdout"
        }
      ]
    },
    {
      "cell_type": "code",
      "metadata": {
        "id": "M87vt07Wqx5J",
        "colab_type": "code",
        "colab": {}
      },
      "source": [
        " # QUESTION 2: FOR THIS CHALLENGE , CREATE  A CONE CLASS THAT HAS 2 ATTRIBUTES : RADIUS AND HEIGHT, AND 2 METHODS: VOLUME \n",
        "# AND SURFACE AREA  MAKE NLY 1 CLASS ED FUNCTIONS ,AS N WHERE REQUIRED IMPORT MATH."
      ],
      "execution_count": null,
      "outputs": []
    },
    {
      "cell_type": "code",
      "metadata": {
        "id": "FoHYgC9frhI4",
        "colab_type": "code",
        "colab": {}
      },
      "source": [
        " import math\n",
        "class cone():\n",
        "    def __init__(self,radius,height):\n",
        "        self.radius =radius\n",
        "        self.height=height\n",
        "    def volume(self):\n",
        "        print(\"volume of a cone = \", 3.142*self.radius*self.radius*self.height/3)\n",
        "    def surfaceArea(self):\n",
        "        print(\"surface area of a cone =\",3.142*self.radius*self.radius + 3.142*self.radius*math.sqrt(self.radius*self.radius+self.height*self.height))"
      ],
      "execution_count": 35,
      "outputs": []
    },
    {
      "cell_type": "code",
      "metadata": {
        "id": "CsR1QNzQsn2D",
        "colab_type": "code",
        "colab": {}
      },
      "source": [
        "Values=cone(2,3)"
      ],
      "execution_count": 36,
      "outputs": []
    },
    {
      "cell_type": "code",
      "metadata": {
        "id": "4_NSlKRZsvp0",
        "colab_type": "code",
        "colab": {
          "base_uri": "https://localhost:8080/",
          "height": 34
        },
        "outputId": "1db47220-af4a-4ab9-fed5-55ec8b823cfa"
      },
      "source": [
        "Values.volume()"
      ],
      "execution_count": 37,
      "outputs": [
        {
          "output_type": "stream",
          "text": [
            "volume of a cone =  12.568\n"
          ],
          "name": "stdout"
        }
      ]
    },
    {
      "cell_type": "code",
      "metadata": {
        "id": "Eq6ll-Nvs1hX",
        "colab_type": "code",
        "colab": {
          "base_uri": "https://localhost:8080/",
          "height": 54
        },
        "outputId": "9231be6b-c1a9-429f-ae44-1f314eec5895"
      },
      "source": [
        " Values.surfaceArea()"
      ],
      "execution_count": 38,
      "outputs": [
        {
          "output_type": "stream",
          "text": [
            "surface area of a cone = 35.225284215015705\n"
          ],
          "name": "stdout"
        }
      ]
    },
    {
      "cell_type": "code",
      "metadata": {
        "id": "qZ3VuGZ1tEe8",
        "colab_type": "code",
        "colab": {}
      },
      "source": [
        ""
      ],
      "execution_count": null,
      "outputs": []
    }
  ]
}