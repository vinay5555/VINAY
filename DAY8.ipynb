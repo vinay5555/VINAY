{
  "nbformat": 4,
  "nbformat_minor": 0,
  "metadata": {
    "colab": {
      "name": "Untitled",
      "provenance": [],
      "authorship_tag": "ABX9TyMTTxC+QrvMqF2g/mf+SvqF",
      "include_colab_link": true
    },
    "kernelspec": {
      "name": "python3",
      "display_name": "Python 3"
    }
  },
  "cells": [
    {
      "cell_type": "markdown",
      "metadata": {
        "id": "view-in-github",
        "colab_type": "text"
      },
      "source": [
        "<a href=\"https://colab.research.google.com/github/vinay5555/VINAY/blob/master/DAY8.ipynb\" target=\"_parent\"><img src=\"https://colab.research.google.com/assets/colab-badge.svg\" alt=\"Open In Colab\"/></a>"
      ]
    },
    {
      "cell_type": "code",
      "metadata": {
        "id": "tslAA8x3t16s",
        "colab_type": "code",
        "colab": {}
      },
      "source": [
        "#Question 1: write a decorator function for ur takinginput for u to build any kind of function"
      ],
      "execution_count": null,
      "outputs": []
    },
    {
      "cell_type": "code",
      "metadata": {
        "id": "i3_smD62uIM6",
        "colab_type": "code",
        "colab": {}
      },
      "source": [
        " def decorateFun(tempFun):\n",
        "    def inputFun():\n",
        "       print(\"enter 2 numbers-\")\n",
        "       a=int(input(\"enter the number1-\"))\n",
        "       b=int(input(\"enter the number2-\"))\n",
        "       tempFun(a,b)\n",
        "    return inputFun"
      ],
      "execution_count": null,
      "outputs": []
    },
    {
      "cell_type": "code",
      "metadata": {
        "id": "Jc9RGC3AuTds",
        "colab_type": "code",
        "colab": {}
      },
      "source": [
        " @decorateFun\n",
        "def evenOddFun(num1,num2):\n",
        "    if num1%2==0 and num2%2==0:\n",
        "        print(\"Both the numbers are even\")\n",
        "    else:\n",
        "        print(\"one of the number or both may be odd\")"
      ],
      "execution_count": null,
      "outputs": []
    },
    {
      "cell_type": "code",
      "metadata": {
        "id": "VLK3K37CuZZk",
        "colab_type": "code",
        "colab": {
          "base_uri": "https://localhost:8080/",
          "height": 85
        },
        "outputId": "c1a97523-241b-4525-ae7d-678ee3e520dc"
      },
      "source": [
        " evenOddFun()"
      ],
      "execution_count": null,
      "outputs": [
        {
          "output_type": "stream",
          "text": [
            "enter 2 numbers-\n",
            "enter the number1-3\n",
            "enter the number2-8\n",
            "one of the number or both may be odd\n"
          ],
          "name": "stdout"
        }
      ]
    },
    {
      "cell_type": "code",
      "metadata": {
        "id": "5g523u0AunkU",
        "colab_type": "code",
        "colab": {
          "base_uri": "https://localhost:8080/",
          "height": 85
        },
        "outputId": "44808622-7cbb-41f3-bfde-a0288923c273"
      },
      "source": [
        " evenOddFun()"
      ],
      "execution_count": null,
      "outputs": [
        {
          "output_type": "stream",
          "text": [
            "enter 2 numbers-\n",
            "enter the number1-4\n",
            "enter the number2-10\n",
            "Both the numbers are even\n"
          ],
          "name": "stdout"
        }
      ]
    },
    {
      "cell_type": "code",
      "metadata": {
        "id": "a5MWyBmouy_l",
        "colab_type": "code",
        "colab": {}
      },
      "source": [
        " #Question 2: open a file wd read only and try write something in it and #handle the error by exception handling"
      ],
      "execution_count": null,
      "outputs": []
    },
    {
      "cell_type": "code",
      "metadata": {
        "id": "C89-_JY9u-Wg",
        "colab_type": "code",
        "colab": {}
      },
      "source": [
        " file = open(\"example.txt\",\"w\")\n",
        "file.write(\" example \")\n",
        "file.close()"
      ],
      "execution_count": null,
      "outputs": []
    },
    {
      "cell_type": "code",
      "metadata": {
        "id": "bxN_G7jNu7Ls",
        "colab_type": "code",
        "colab": {
          "base_uri": "https://localhost:8080/",
          "height": 34
        },
        "outputId": "a136794d-9847-4e2b-bbdf-3c896d2f909c"
      },
      "source": [
        " try:\n",
        "   file = open(\"example.txt\", \"r\")\n",
        "   file.write(\"This is my test file for exception handling!!\")\n",
        "except IOError:\n",
        "   print (\"Error: can\\'t find file or read data\")\n",
        "else:\n",
        "   print (\"Written content in the file\" )"
      ],
      "execution_count": null,
      "outputs": [
        {
          "output_type": "stream",
          "text": [
            "Error: can't find file or read data\n"
          ],
          "name": "stdout"
        }
      ]
    }
  ]
}