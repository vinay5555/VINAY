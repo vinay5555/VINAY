{
  "nbformat": 4,
  "nbformat_minor": 0,
  "metadata": {
    "colab": {
      "name": "Day4.ipynb",
      "provenance": [],
      "authorship_tag": "ABX9TyMlvmX4RtveRfJPCgxVd9r+",
      "include_colab_link": true
    },
    "kernelspec": {
      "name": "python3",
      "display_name": "Python 3"
    }
  },
  "cells": [
    {
      "cell_type": "markdown",
      "metadata": {
        "id": "view-in-github",
        "colab_type": "text"
      },
      "source": [
        "<a href=\"https://colab.research.google.com/github/vinay5555/VINAY/blob/master/Day4.ipynb\" target=\"_parent\"><img src=\"https://colab.research.google.com/assets/colab-badge.svg\" alt=\"Open In Colab\"/></a>"
      ]
    },
    {
      "cell_type": "markdown",
      "metadata": {
        "id": "SDH50mIbnDBP",
        "colab_type": "text"
      },
      "source": [
        " \n",
        "#Question 1\n",
        "#Print the first ArmStrong number in the range of 1042000 to 702648265 and exit the loop as soon\n",
        "#as you encounter the first armstrong number.\n",
        "#Use while loop"
      ]
    },
    {
      "cell_type": "code",
      "metadata": {
        "id": "WU81erYZm1MS",
        "colab_type": "code",
        "colab": {
          "base_uri": "https://localhost:8080/",
          "height": 34
        },
        "outputId": "2406b173-11b3-4d66-e25c-ce9de79440c6"
      },
      "source": [
        " \n",
        " \n",
        "lower = 1042000 \n",
        "upper = 702648265\n",
        " \n",
        "for num in range(lower, upper + 1):\n",
        " \n",
        "   \n",
        "   order = len(str(num))\n",
        "    \n",
        "  \n",
        "   sum = 0\n",
        " \n",
        "   temp = num\n",
        "   while temp > 0:\n",
        "       digit = temp % 10\n",
        "       sum += digit ** order\n",
        "       temp //= 10\n",
        " \n",
        "   if num == sum:\n",
        "       print(num)\n",
        "       break;"
      ],
      "execution_count": 1,
      "outputs": [
        {
          "output_type": "stream",
          "text": [
            "1741725\n"
          ],
          "name": "stdout"
        }
      ]
    }
  ]
}