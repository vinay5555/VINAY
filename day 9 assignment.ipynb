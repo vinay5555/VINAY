{
 "cells": [
  {
   "cell_type": "code",
   "execution_count": null,
   "metadata": {},
   "outputs": [],
   "source": [
    "#question 1Write a python Function for finding is a given number prime or not and do Unit Testing on it using\n",
    "#PyLint and Unittest Library"
   ]
  },
  {
   "cell_type": "code",
   "execution_count": 2,
   "metadata": {},
   "outputs": [
    {
     "name": "stdout",
     "output_type": "stream",
     "text": [
      "Requirement already satisfied: pylint in c:\\users\\girish\\anaconda3\\lib\\site-packages (2.5.3)\n",
      "Requirement already satisfied: isort<5,>=4.2.5 in c:\\users\\girish\\anaconda3\\lib\\site-packages (from pylint) (4.3.21)\n",
      "Requirement already satisfied: colorama; sys_platform == \"win32\" in c:\\users\\girish\\anaconda3\\lib\\site-packages (from pylint) (0.4.3)\n",
      "Requirement already satisfied: mccabe<0.7,>=0.6 in c:\\users\\girish\\anaconda3\\lib\\site-packages (from pylint) (0.6.1)\n",
      "Requirement already satisfied: astroid<=2.5,>=2.4.0 in c:\\users\\girish\\anaconda3\\lib\\site-packages (from pylint) (2.4.2)\n",
      "Requirement already satisfied: toml>=0.7.1 in c:\\users\\girish\\anaconda3\\lib\\site-packages (from pylint) (0.10.1)\n",
      "Requirement already satisfied: wrapt~=1.11 in c:\\users\\girish\\anaconda3\\lib\\site-packages (from astroid<=2.5,>=2.4.0->pylint) (1.11.2)\n",
      "Requirement already satisfied: six~=1.12 in c:\\users\\girish\\anaconda3\\lib\\site-packages (from astroid<=2.5,>=2.4.0->pylint) (1.15.0)\n",
      "Requirement already satisfied: lazy-object-proxy==1.4.* in c:\\users\\girish\\anaconda3\\lib\\site-packages (from astroid<=2.5,>=2.4.0->pylint) (1.4.3)\n",
      "Note: you may need to restart the kernel to use updated packages.\n"
     ]
    }
   ],
   "source": [
    "pip install pylint"
   ]
  },
  {
   "cell_type": "code",
   "execution_count": 98,
   "metadata": {},
   "outputs": [
    {
     "name": "stdout",
     "output_type": "stream",
     "text": [
      "Overwriting prime.py\n"
     ]
    }
   ],
   "source": [
    "%%writefile prime.py\n",
    " \n",
    "\"isprimetesting\"\n",
    "\n",
    "def test_prime(n_um):\n",
    "    \"prime checker\"\n",
    "    if n_um == 1:\n",
    "        return False\n",
    "    else:\n",
    "        for x_num in range(2, n_um):\n",
    "            if n_um % x_num == 0:\n",
    "                return False\n",
    "        return True\n",
    "\n",
    "\n"
   ]
  },
  {
   "cell_type": "code",
   "execution_count": 99,
   "metadata": {},
   "outputs": [
    {
     "data": {
      "text/plain": [
       "False"
      ]
     },
     "execution_count": 99,
     "metadata": {},
     "output_type": "execute_result"
    }
   ],
   "source": [
    "test_prime(9)"
   ]
  },
  {
   "cell_type": "code",
   "execution_count": 100,
   "metadata": {},
   "outputs": [
    {
     "name": "stdout",
     "output_type": "stream",
     "text": [
      "************* Module prime\n",
      "prime.py:1:0: C0303: Trailing whitespace (trailing-whitespace)\n",
      "prime.py:14:0: C0305: Trailing newlines (trailing-newlines)\n",
      "prime.py:6:4: R1705: Unnecessary \"else\" after \"return\" (no-else-return)\n",
      "\n",
      "-------------------------------------------------------------------\n",
      "\n",
      "Your code has been rated at 5.71/10 (previous run: -2.86/10, +8.57)\n",
      "\n",
      "\n",
      "\n"
     ]
    }
   ],
   "source": [
    "! pylint \"prime.py\""
   ]
  },
  {
   "cell_type": "code",
   "execution_count": 118,
   "metadata": {},
   "outputs": [
    {
     "name": "stdout",
     "output_type": "stream",
     "text": [
      "Overwriting testprime.py\n"
     ]
    }
   ],
   "source": [
    "%%writefile testprime.py\n",
    "\n",
    "import unittest\n",
    "import prime\n",
    "\n",
    "class testprime(unittest.TestCase):\n",
    "    def testnumber(self):\n",
    "        num=6\n",
    "        result=prime.test_prime(8)\n",
    "        self.assertEqual(result, False)\n",
    "if __name__ ==\"__main__\":\n",
    "    unittest.main()"
   ]
  },
  {
   "cell_type": "code",
   "execution_count": 119,
   "metadata": {},
   "outputs": [
    {
     "name": "stderr",
     "output_type": "stream",
     "text": [
      ".\n",
      "----------------------------------------------------------------------\n",
      "Ran 1 test in 0.000s\n",
      "\n",
      "OK\n"
     ]
    }
   ],
   "source": [
    "! python testprime.py"
   ]
  },
  {
   "cell_type": "code",
   "execution_count": 120,
   "metadata": {},
   "outputs": [],
   "source": [
    "#question 2Make a small generator program for returning armstrong numbers in between 1-1000 in a\n",
    "#generator object."
   ]
  },
  {
   "cell_type": "code",
   "execution_count": 121,
   "metadata": {},
   "outputs": [],
   "source": [
    "lst = list(range(1001))\n",
    "def Armstrong(lst):\n",
    " for num in lst:\n",
    "        order =len(str(num))\n",
    "        sum = 0\n",
    "        temp = num \n",
    "        while temp>0:\n",
    "          digit = temp % 10\n",
    "          sum += digit ** order\n",
    "          temp //=10\n",
    "        if num==sum:\n",
    "           yield num\n"
   ]
  },
  {
   "cell_type": "code",
   "execution_count": 122,
   "metadata": {},
   "outputs": [
    {
     "data": {
      "text/plain": [
       "[0, 1, 2, 3, 4, 5, 6, 7, 8, 9, 153, 370, 371, 407]"
      ]
     },
     "execution_count": 122,
     "metadata": {},
     "output_type": "execute_result"
    }
   ],
   "source": [
    "list(Armstrong(lst))"
   ]
  },
  {
   "cell_type": "code",
   "execution_count": null,
   "metadata": {},
   "outputs": [],
   "source": []
  }
 ],
 "metadata": {
  "kernelspec": {
   "display_name": "Python 3",
   "language": "python",
   "name": "python3"
  },
  "language_info": {
   "codemirror_mode": {
    "name": "ipython",
    "version": 3
   },
   "file_extension": ".py",
   "mimetype": "text/x-python",
   "name": "python",
   "nbconvert_exporter": "python",
   "pygments_lexer": "ipython3",
   "version": "3.8.3"
  }
 },
 "nbformat": 4,
 "nbformat_minor": 4
}
